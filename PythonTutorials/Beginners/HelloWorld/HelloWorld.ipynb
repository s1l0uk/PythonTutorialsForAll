  "nbformat": 4,
  "nbformat_minor": 0,
  "metadata": {
    "colab": {
      "name": "Python Training - Beginners - Hello World! Your First Python Programme!",
      "provenance": [],
      "collapsed_sections": []
    },
    "kernelspec": {
      "display_name": "Python 3",
      "name": "python3"
    }
  },
  "cells": [
    {
      "cell_type": "markdown",
      "metadata": {
        "colab_type": "text",
        "id": "9a0e7b6f4812e"
      },
      "source": [
        "# Hello World! ...and Hello to you! Welcome to the language\n",
        "\n",
        "This picks up from installing your environment! I hope you have got a working Python environment and are ready to go!\n",
        "...if not, don't worry! you might find some answers to your bugs here!\n",
        "\n",
        "The truth about programming is that most of our time will be fixing bugs in our ideas to get them to work, so this is not a bad place to start.\n",
        "Let's use this notebook to prove our Python Environment.\n",
        "\n",
        "In this guide we are going to use the `ipy` notebook to create the cliche 'first program' called HelloWorld\n",
        "Hello World is typically used across most computer terminology to refer to the first run of a program, the computer saying Hello upon ignition.\n",
        "\n",
        "Ready to try? ...it's a difficult one!\n",
        "\n",
        "## The Python Interpreter  \n",
        "\n",
        "Our first program doesn't even need a text editor to write to start with let's start up Python:  \n",
        "\n",
        "```\n",
        "$ python3\n",
        "Python 3.6.9 (default, Nov  7 2019, 10:44:02)\n",
        "[GCC 8.3.0] on Linux\n",
        "Type \"help\", \"copyright\", \"credits\" or \"license\" for more information.\n",
        ">>> print('Hello World!') \n",
        "```\n",
        "##### See if you can can do it?.  \n"
      ]
    },
    {
      "cell_type": "code",
      "metadata": {
        "id": "ffc5b8c7d0624",
        "colab_type": "code",
        "colab": {}
      },
      "source": [
        "!python\n"
      ],
      "execution_count": 0,
      "outputs": []
    },
    {
      "cell_type": "markdown",
      "metadata": {
        "colab_type": "text",
        "id": "95e673e32bf50"
      },
      "source": [
        "NOTE: The Jupyter Notebooks Environment (or ipynb) will run `bash` commands\n",
        "on a virtual linux instance when prefixed with the `!` character which can\n",
        "be useful to setup environments for demonstration purposes.  \n",
        "\n",
        "### Interacting with Python!  \n",
        "\n",
        "Python can also be run in a more interactive way. As mentioned above, if\n",
        "you have python installed you can execute the python command which will\n",
        "create a shell that will work with a live compiler and python environment!  \n",
        "\n",
        "The notebooks are note a great way to demonstrate this as and the only\n",
        "example we can show is below (which I would not change...  it has crashed\n",
        "a few work spaces... 😹)  \n"
      ]
    },
    {
      "cell_type": "code",
      "metadata": {
        "id": "d46dfcd70df7b",
        "colab_type": "code",
        "colab": {}
      },
      "source": [
        "!echo 'quit(\"Quit out as it breaks Google 😹\")' | python\n"
      ],
      "execution_count": 0,
      "outputs": []
    },
    {
      "cell_type": "markdown",
      "metadata": {
        "colab_type": "text",
        "id": "e7e678d8c093e"
      },
      "source": [
        "This is a very useful tool even in larger developments!  \n",
        "\n",
        "###Diving Deeper  \n",
        "Not only can we have a look at a representation of an object while we are\n",
        "debugging a piece of code. We can also find out some more information\n",
        "about an object and even it's capabilities.  \n",
        "\n",
        "####type(object)  \n",
        "When we are unsure what type of object is behind a variable. We can use\n",
        "the in-built method of type to query what it is: `type(\"Hello!\")` would\n",
        "tell us it is a String!  \n",
        "\n",
        "####dir(object)  \n",
        "When exploring an object, it can be useful to know what possible methods\n",
        "and attributes the object has. Using `dir(object)` we can get a list of\n",
        "attributes.  \n",
        "\n",
        "With every instance of this function you will some common, maybe confusing\n",
        "entries like `__init__`. As far as this guide is concerned you can ignore\n",
        "those, they are part of the Python's internal variable set which we will\n",
        "look at later on.  \n",
        "\n",
        "Some of the output should seem straight forward. For Example, the output\n",
        "of `dir(list)` shows a `sort()` and `reverse()` method which will sort\n",
        "or reverse the order of the list it is suffixed with for example:  \n",
        "`['b','z','a'].sort()` will return `['a','b','z']` \n",
        "\n",
        "####help(object)  \n",
        "When you get lost with an object, or if you do not like the computer\n",
        "output given by the above methods. You can always call the help function\n",
        "in Python with `help(object)`. This nifty function will pull up a handy\n",
        "guide on what object you are dealing with, it will also show off it's\n",
        "attributes and methods with instructions how to use them!  \n"
      ]
    },
    {
      "cell_type": "code",
      "metadata": {
        "id": "3d9e5d4dcae82",
        "colab_type": "code",
        "colab": {}
      },
      "source": [
        "!pip -q install boto3 # Bash Command to install module and ensure it is there\n",
        "\n",
        "# Our Setup from last time!\n",
        "import boto3  # Importing the module used to manipulate the AWS Cloud.\n",
        "\n",
        "# A Test Function\n",
        "def test_function(message):\n",
        "    return message\n",
        "\n",
        "# A Test String Variable\n",
        "string_var = 'Hello World!'\n",
        "\n",
        "# A Test List Variable\n",
        "list_var = ['Hello', 'World!']\n",
        "\n",
        "# A Test Dictionary Variable\n",
        "dict_var = {'Hello': 'World', 'Foo': ['Bar', 'Baz']}\n",
        "\n",
        "list_of_vars = [('boto3', boto3),\n",
        "                ('test_function', test_function),\n",
        "                ('instantiated_test_function', test_function('Message')),\n",
        "                ('string_var', string_var),\n",
        "                ('list_var', list_var),\n",
        "                ('dict_var', dict_var)  #These Variable types are called Tuples!\n",
        "              ]  \n",
        "\n",
        "for v in list_of_vars:  # Let's be lazy and loop!\n",
        "    print(f'The Variable: {v[0]} is a {type(v[1])} and it\\'s String representation is - \"{v[1]}\"')\n",
        "    print('It is has the following Methods and Attributes:')\n",
        "    print(dir(v[1]))\n",
        "    print(f'To get more help we can run: help({v[0]}) to get a help page')\n",
        "    print()\n",
        "\n",
        "help(list_of_vars[0][1])\n"
      ],
      "execution_count": 0,
      "outputs": []
    },
    {
      "cell_type": "markdown",
      "metadata": {
        "colab_type": "text",
        "id": "fd147ccce37de"
      },
      "source": [
        "## Wrap Up!\n",
        "\n",
        "This Class has shown how to use the internal, built in functions of Python to explore inside of it. It hopefully has provided some extra understanding of variables as well as set you up for some harder challenges in the Future!\n",
        "\n",
        "Be Curious! An Object might not be what you think it is!\n",
        "\n",
        "See if you can find out what the different variables are below:\n"
      ]
    }
  ]
}
